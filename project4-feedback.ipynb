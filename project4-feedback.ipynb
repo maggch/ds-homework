{
 "cells": [
  {
   "cell_type": "markdown",
   "metadata": {},
   "source": [
    "# Project 4\n",
    "\n",
    "In this project, you will summarize and present your analysis from Projects 1-3."
   ]
  },
  {
   "cell_type": "markdown",
   "metadata": {},
   "source": [
    "### Intro: Write a problem Statement/ Specific Aim for this project"
   ]
  },
  {
   "cell_type": "markdown",
   "metadata": {},
   "source": [
    "Answer: Using the Admissions data from an unknown time period, determine how likely students are admitted to graduate school using students' gre, gpa and school prestige information."
   ]
  },
  {
   "cell_type": "markdown",
   "metadata": {},
   "source": [
    "### Dataset:  Write up a description of your data and any cleaning that was completed"
   ]
  },
  {
   "cell_type": "markdown",
   "metadata": {},
   "source": [
    "Answer: There are 400 observations in the dataset; 3 of them had missing data and were dropped from the analysis leaving 397 observations to be analyzed.\n",
    "\n",
    "The data featured four variables-- admit, gre, gpa and prestige [of the student's undergraduate school].\n",
    "\n",
    "Admit (1 for admit and 0 for not admit) is the variable we are trying to predict by observing the three features. Gre is a continuous variable on a scale to 800 (min in the data is 220 and max 800), gpa is a continuous variable on a scale of 4 (min in the data is 2.26 and max is 4.0) and prestige is a categorical variable (1, 2, 3 or 4 with 1 being the highest prestige)."
   ]
  },
  {
   "cell_type": "markdown",
   "metadata": {
    "collapsed": true
   },
   "source": [
    "### Demo: Provide a table that explains the data by admission status"
   ]
  },
  {
   "cell_type": "markdown",
   "metadata": {},
   "source": [
    "Variable | Description | Type of Variable\n",
    "---| ---| ---\n",
    "admit | 0 = not admitted 1 = admitted | categorical\n",
    "gre | GRE score | continuous\n",
    "gpa | Grade Point Average | continuous\n",
    "prestige | School Rank; 1 lowest, 4 highest | categorical\n",
    "\n",
    "\n",
    "Mean (STD) or counts by admission status for each variable \n",
    "\n",
    "| Not Admitted | Admitted\n",
    "---| ---|---\n",
    "GPA | 3.347159(0.376355) | 3.489206(0.371655)\n",
    "GRE | 573.579336(116.052798) | 618.571429(109.257233)\n",
    "Prestige 1 | 28(7.1%) | 33(8.3%)\n",
    "Prestige 2 | 95(23.9%) | 53(13.35%)\n",
    "Prestige 3 | 93(23.43%) | 28(7%)\n",
    "Prestige 4 | 55(13.85%) | 12(3%)"
   ]
  },
  {
   "cell_type": "markdown",
   "metadata": {},
   "source": [
    "### Methods: Write up the methods used in your analysis"
   ]
  },
  {
   "cell_type": "markdown",
   "metadata": {},
   "source": [
    "Answer: We created dummy variables for prestige before using the Statsmodel Logistic Regression function and calculated the probability of a student getting admitted into graduate school. "
   ]
  },
  {
   "cell_type": "markdown",
   "metadata": {},
   "source": [
    "### Results: Write up your results"
   ]
  },
  {
   "cell_type": "markdown",
   "metadata": {},
   "source": [
    "Answer: Students from #1 ranked school had 3.08 (C.I 0.002207, 0.194440) the odds of getting admitted compared to students from other ranks."
   ]
  },
  {
   "cell_type": "markdown",
   "metadata": {},
   "source": [
    "### Visuals: Provide a table or visualization of these results"
   ]
  },
  {
   "cell_type": "code",
   "execution_count": 1,
   "metadata": {
    "collapsed": false
   },
   "outputs": [
    {
     "name": "stdout",
     "output_type": "stream",
     "text": [
      "prestige_1.0  0.0  1.0  All\n",
      "admit                      \n",
      "0             245   28  273\n",
      "1              94   33  127\n",
      "All           339   61  400\n",
      "Odds for admittance from #1 ranked school: 3.07949308756\n"
     ]
    }
   ],
   "source": [
    "import pandas as pd\n",
    "\n",
    "df = pd.read_csv(\"admissions.csv\")\n",
    "dummy_ranks = pd.get_dummies(df.prestige, prefix='prestige')\n",
    "cols_to_keep = ['admit', 'gre', 'gpa']\n",
    "handCalc = df[cols_to_keep].join(dummy_ranks.ix[:, 'prestige_1':])\n",
    "r1 = pd.crosstab(handCalc['admit'], handCalc['prestige_1.0'], rownames = ['admit'], margins=True)\n",
    "print r1\n",
    "print 'Odds for admittance from #1 ranked school:', (33/28.0) / (93/243.0)"
   ]
  },
  {
   "cell_type": "markdown",
   "metadata": {},
   "source": [
    "### Discussion: Write up your discussion and future steps"
   ]
  },
  {
   "cell_type": "markdown",
   "metadata": {},
   "source": [
    "Answer: There is an inverse relationship between prestige and probability of admittance (higher prestige, higher chance of admittance), a direct relationship between gpa and probability of admittance and a direct relationship between gre and probability of admittance (higher gpa, gre, higher chance of admittance). Possible future steps may be to explore other factors to admittance not in the table."
   ]
  },
  {
   "cell_type": "markdown",
   "metadata": {},
   "source": [
    "## Feedback\n",
    "\n",
    "| Requirements | Incomplete (0) | Does Not Meet Expectations (1) | Meets Expectations (2) | Exceeds Expectations (3) |\n",
    "|---|---|---|---|---|\n",
    "| Outlined methods and models | | |X | |\n",
    "| Articulation of \"specific aim\" and datasets | | |X | |\n",
    "| Risks and assumptions | | |X | |\n",
    "| Goals and criteria for success | | |X | |\n",
    "| Exploratory data analysis overview with visualizations and statistical analysis | | |X | |\n",
    "| Writeup with interpretation of findings, an executive summary, conclusions, and next steps | | |X | |"
   ]
  },
  {
   "cell_type": "code",
   "execution_count": null,
   "metadata": {
    "collapsed": true
   },
   "outputs": [],
   "source": []
  }
 ],
 "metadata": {
  "kernelspec": {
   "display_name": "Python 2",
   "language": "python",
   "name": "python2"
  },
  "language_info": {
   "codemirror_mode": {
    "name": "ipython",
    "version": 2
   },
   "file_extension": ".py",
   "mimetype": "text/x-python",
   "name": "python",
   "nbconvert_exporter": "python",
   "pygments_lexer": "ipython2",
   "version": "2.7.12"
  }
 },
 "nbformat": 4,
 "nbformat_minor": 0
}
