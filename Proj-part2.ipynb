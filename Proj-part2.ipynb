{
 "cells": [
  {
   "cell_type": "code",
   "execution_count": 71,
   "metadata": {
    "collapsed": true
   },
   "outputs": [],
   "source": [
    "%matplotlib inline\n",
    "\n",
    "import pandas as pd\n",
    "import numpy as np\n",
    "import seaborn as sns\n",
    "import matplotlib.pyplot as plt"
   ]
  },
  {
   "cell_type": "markdown",
   "metadata": {},
   "source": [
    "### Problem Statement:\n",
    "\n",
    "Using the Speed Dating Data provided by Kaggle, determine how likely a participant will choose to see a person again (Dec=1) based on how the aspects of the participant's perception of the person and their history (attr, sinc. intel. fun, amb, shar, like, prob, met)"
   ]
  },
  {
   "cell_type": "markdown",
   "metadata": {},
   "source": [
    "### An outline of any potential methods and models:\n",
    "\n",
    "- Get a understanding of the counts for each feature and the outcome\n",
    "- See how each feature individually affects the outcome (using odds ratios and seaborn graphs)\n",
    "- Split data set into train and test\n",
    "- Perform Logistic Regression to calculate the probability a participant will choose to see a person again.\n",
    "- Analyze model with cross_val_score; use Gridsearch if not satisfactory"
   ]
  },
  {
   "cell_type": "code",
   "execution_count": 72,
   "metadata": {
    "collapsed": false
   },
   "outputs": [],
   "source": [
    "#df.columns.get_loc('attr1_s')\n",
    "df = pd.read_csv('Speed Dating Data.csv', usecols= [i for i in range(108)])"
   ]
  },
  {
   "cell_type": "markdown",
   "metadata": {},
   "source": [
    "### Data Dictionary:\n",
    "\n",
    "(File has more columns than needed for analysis in case I decide to include more features into analysis)\n",
    "\n",
    "FieldName|Description\n",
    "---------|-----------------------------------------------------------------------------------\n",
    "iid|unique subject number, group(wave id gender)\n",
    "gender|Female=0 Male=1\n",
    "order|the number of date that night when met partner\n",
    "pid|partner’s iid number\n",
    "match|1=yes, 0=no\n",
    "int_corr|correlation between participant’s and partner’s ratings of interests in Time 1\n",
    "samerace|participant and the partner were the same race. 1= yes, 0=no\n",
    "dec_o|decision of partner the night of event\n",
    "attr_o|rating of attraction by partner the night of the event\n",
    "sinc_o|rating of sincerity by partner the night of the event\n",
    "intel_o|rating of intelligence by partner the night of the event\n",
    "fun_o|rating of fun by partner the night of the event\n",
    "amb_o|rating of ambition by partner the night of the event\n",
    "shar_o|rating of shared interest by partner the night of the event\n",
    "like_o|how much does your partner like you overall? (1=don't like at all, 10=like a lot)\n",
    "prob_o|How probable your partner thinks it is that you will say 'yes' for him? (1=not probable, 10=extremely probable)\n",
    "dec|Decision: 1=Yes 2=No\n",
    "attr|Rate attraction of partner 1-10\n",
    "sinc|Rate sincerity of partner 1-10\n",
    "intel|Rate intelligence of partner 1-10\n",
    "fun|Rate fun(ness) of partner 1-10\n",
    "amb|Rate ambition of partner 1-10\n",
    "shar|Rate shared interest of partner 1-10\n",
    "like|Overall, how much do you like this person? (1=don't like at all, 10=like a lot)\n",
    "prob|How probable do you think it is that this person will say 'yes' for you? (1=not probable, 10=extremely probable)\n",
    "met|Have you met this partner before: 1=Yes 2=No"
   ]
  },
  {
   "cell_type": "markdown",
   "metadata": {},
   "source": [
    "field_cd| \tfield coded \n",
    "---------|-----------------------------------------------------------------------------------\n",
    "1| Law  \n",
    "2| Math\n",
    "3| Social Science, Psychologist \n",
    "4| Medical Science, Pharmaceuticals, and Bio Tech \n",
    "5| Engineering  \n",
    "6| English/Creative Writing/ Journalism \n",
    "7| History/Religion/Philosophy \n",
    "8| Business/Econ/Finance \n",
    "9| Education, Academia \n",
    "10| Biological Sciences/Chemistry/Physics\n",
    "11| Social Work \n",
    "12| Undergrad/undecided \n",
    "13|Political Science/International Affairs \n",
    "14|Film\n",
    "15|Fine Arts/Arts Administration\n",
    "16|Languages\n",
    "17|Architecture\n",
    "18|Other"
   ]
  },
  {
   "cell_type": "code",
   "execution_count": null,
   "metadata": {
    "collapsed": false
   },
   "outputs": [],
   "source": [
    "#Since the data has so many features, remove cols not needed for analysis\n",
    "col_to_drop = ['id', 'idg', 'condtn', 'wave', 'round', 'position', 'positin1', 'partner', 'met_o', \\\n",
    "               'race_o', 'pf_o_att', 'pf_o_sin', 'pf_o_int', 'pf_o_fun', 'pf_o_amb', 'pf_o_sha', \\\n",
    "               'age', 'age_o', 'field', 'field_cd']\n",
    "first_part = df.iloc[:, :df.columns.get_loc('field_cd')+1]\n",
    "second_part = df.iloc[:, df.columns.get_loc('dec'):df.columns.get_loc('met')+1]\n",
    "\n",
    "df = first_part.join(second_part).drop(col_to_drop, axis=1)"
   ]
  },
  {
   "cell_type": "markdown",
   "metadata": {},
   "source": [
    "### Describe any outstanding questions, assumptions, risks, caveats\n",
    "\n",
    "- most of the features are based on the participant's opinions (not set facts) so their ranking system may change with time during the surveys\n",
    "- outliers can skew the data\n",
    "- there is a large percentage of the observations with null values which will be filled either mode/median/mean; this will also affect the data"
   ]
  },
  {
   "cell_type": "markdown",
   "metadata": {},
   "source": [
    "### Demonstrate domain knowledge, including specific features or relevant benchmarks from similar projects\n",
    "\n",
    "Type: classification problem                                                                                           \n",
    "Outcome: Dec column 1=Yes 0=No                                                                                         \n",
    "Number of observations: 8378                                                                                           \n",
    "Number of not null observations: 5669                                                                                 \n",
    "Method will be similar to the flight delay and titanic problemset of using Logistic Regression"
   ]
  },
  {
   "cell_type": "markdown",
   "metadata": {},
   "source": [
    "### Define your goals and criteria, in order to explain what success looks like\n",
    "1. Understanding the data: are there any outliers? What is each features' relationship with the outcome? What are the value counts?\n",
    "2. Performing the analysis: Make sure none of the variables are highly correlated, make sure data is not skewed by outliers\n",
    "3. Getting the results: Is the cross val score satisfactory? If not use gridsearch to see how it can be improved."
   ]
  },
  {
   "cell_type": "markdown",
   "metadata": {},
   "source": [
    "### Bonus:\n",
    "\n",
    "1. Consider alternative hypotheses: \n",
    "    - Compare how partners rank each other and use similarity to predict if they will match.\n",
    "    - Using the participant's background-- age, field, SATs (some currently excluded), race, school[...] to predict if a person will want to see the participant again.\n",
    "\n",
    "2. \"Convert\" your goal metric from a statistical one (like Mean Squared Error) and tie it to something non-data people can understand, like a cost/benefit analysis, etc."
   ]
  }
 ],
 "metadata": {
  "anaconda-cloud": {},
  "kernelspec": {
   "display_name": "Python [Root]",
   "language": "python",
   "name": "Python [Root]"
  },
  "language_info": {
   "codemirror_mode": {
    "name": "ipython",
    "version": 2
   },
   "file_extension": ".py",
   "mimetype": "text/x-python",
   "name": "python",
   "nbconvert_exporter": "python",
   "pygments_lexer": "ipython2",
   "version": "2.7.12"
  }
 },
 "nbformat": 4,
 "nbformat_minor": 0
}
